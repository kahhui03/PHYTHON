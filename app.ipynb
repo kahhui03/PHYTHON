{
 "cells": [
  {
   "cell_type": "code",
   "execution_count": 1,
   "id": "8f5da485",
   "metadata": {},
   "outputs": [
    {
     "name": "stdout",
     "output_type": "stream",
     "text": [
      "Hello world\n"
     ]
    }
   ],
   "source": [
    "print ('Hello world')"
   ]
  },
  {
   "cell_type": "code",
   "execution_count": 6,
   "id": "24c3c968",
   "metadata": {},
   "outputs": [
    {
     "name": "stdout",
     "output_type": "stream",
     "text": [
      "Hello World\n"
     ]
    }
   ],
   "source": [
    "\"\"\"\n",
    "This is Hello World \n",
    "kjkjkjkjkjkj\n",
    "\"\"\"\n",
    "#LOL\n",
    "print('Hello World')"
   ]
  },
  {
   "cell_type": "code",
   "execution_count": 7,
   "id": "8b579341",
   "metadata": {},
   "outputs": [
    {
     "name": "stdout",
     "output_type": "stream",
     "text": [
      "BYE\n"
     ]
    }
   ],
   "source": [
    "print('BYE')"
   ]
  },
  {
   "cell_type": "code",
   "execution_count": 8,
   "id": "0fbbd567",
   "metadata": {},
   "outputs": [
    {
     "name": "stdout",
     "output_type": "stream",
     "text": [
      "\n"
     ]
    }
   ],
   "source": [
    "name = input('What is your name')\n",
    "print(name)"
   ]
  },
  {
   "cell_type": "code",
   "execution_count": 9,
   "id": "74c2c89e",
   "metadata": {},
   "outputs": [
    {
     "name": "stdout",
     "output_type": "stream",
     "text": [
      "Hello,World!\n"
     ]
    }
   ],
   "source": [
    "print(\"Hello,World!\")"
   ]
  },
  {
   "cell_type": "code",
   "execution_count": 10,
   "id": "a5656f4a",
   "metadata": {},
   "outputs": [],
   "source": [
    "name=\"Amar\""
   ]
  },
  {
   "cell_type": "markdown",
   "id": "0014a778",
   "metadata": {},
   "source": [
    "print(\"Hello Kah Hui\")"
   ]
  },
  {
   "cell_type": "code",
   "execution_count": 17,
   "id": "c29ca4c5",
   "metadata": {},
   "outputs": [
    {
     "name": "stdout",
     "output_type": "stream",
     "text": [
      "hello world\n",
      "hello world\n",
      "hello world\n",
      "hello world\n",
      "hello world\n"
     ]
    }
   ],
   "source": [
    "print('hello world')\n",
    "print('hello world')\n",
    "print('hello world')\n",
    "print('hello world')\n",
    "print('hello world')"
   ]
  },
  {
   "cell_type": "markdown",
   "id": "b3e752b6",
   "metadata": {},
   "source": []
  },
  {
   "cell_type": "code",
   "execution_count": 24,
   "id": "a6f5a229",
   "metadata": {},
   "outputs": [
    {
     "name": "stdout",
     "output_type": "stream",
     "text": [
      "My name isRahman\n"
     ]
    }
   ],
   "source": [
    "name = \"Rahman\"\n",
    "print ('My name is' +name )"
   ]
  },
  {
   "cell_type": "code",
   "execution_count": 25,
   "id": "63190897",
   "metadata": {},
   "outputs": [
    {
     "name": "stdout",
     "output_type": "stream",
     "text": [
      "My name is Rahman Romand I am 28 years old.\n"
     ]
    }
   ],
   "source": [
    "name = \"Rahman Rom\"\n",
    "age = \"28\"\n",
    "print('My name is '+name+ 'and I am '+age+' years old.')"
   ]
  },
  {
   "cell_type": "code",
   "execution_count": 26,
   "id": "e595c76c",
   "metadata": {},
   "outputs": [
    {
     "name": "stdout",
     "output_type": "stream",
     "text": [
      "My name is Rahman Rom\n"
     ]
    }
   ],
   "source": [
    "name = 'Rahman Rom'\n",
    "print(f\"My name is {name}\")"
   ]
  },
  {
   "cell_type": "code",
   "execution_count": 28,
   "id": "58774488",
   "metadata": {},
   "outputs": [
    {
     "name": "stdout",
     "output_type": "stream",
     "text": [
      "My name is Rahman Rom and I am 28 years old.\n"
     ]
    }
   ],
   "source": [
    "name = 'Rahman Rom'\n",
    "age = '28'\n",
    "print(f'My name is {name} and I am {age} years old.')"
   ]
  },
  {
   "cell_type": "code",
   "execution_count": 29,
   "id": "4f580e48",
   "metadata": {},
   "outputs": [],
   "source": [
    "number_of_people = 100\n",
    "number_of_countries = 10\n",
    "number_of_cars = 1000"
   ]
  },
  {
   "cell_type": "code",
   "execution_count": 30,
   "id": "5998412f",
   "metadata": {},
   "outputs": [],
   "source": [
    "height = 1.75\n",
    "weight = 70.5\n",
    "percentage = 90.5"
   ]
  },
  {
   "cell_type": "code",
   "execution_count": 31,
   "id": "dbe38ff2",
   "metadata": {},
   "outputs": [],
   "source": [
    "name = \"Rahman\"\n",
    "university = \"Universiti Malaya\"\n",
    "country = \"Malaysia\""
   ]
  },
  {
   "cell_type": "code",
   "execution_count": 32,
   "id": "d18a1c77",
   "metadata": {},
   "outputs": [],
   "source": [
    "is_student = True \n",
    "is_employed = False "
   ]
  },
  {
   "cell_type": "code",
   "execution_count": 34,
   "id": "796fe39b",
   "metadata": {},
   "outputs": [
    {
     "name": "stdout",
     "output_type": "stream",
     "text": [
      "<class 'str'>\n",
      "<class 'int'>\n",
      "<class 'bool'>\n",
      "<class 'float'>\n"
     ]
    }
   ],
   "source": [
    "variable_1 = \"Alia\"\n",
    "variable_2 = 100\n",
    "variable_3 = True \n",
    "variable_4 = 0.3454 \n",
    "\n",
    "print(type(variable_1)) # str \n",
    "print(type(variable_2)) # int\n",
    "print(type(variable_3)) # bool\n",
    "print(type(variable_4)) # float"
   ]
  },
  {
   "cell_type": "code",
   "execution_count": 36,
   "id": "46deaac3",
   "metadata": {},
   "outputs": [
    {
     "name": "stdout",
     "output_type": "stream",
     "text": [
      "<class 'float'>\n",
      "<class 'int'>\n"
     ]
    }
   ],
   "source": [
    "variable_1 = \"10.10\"\n",
    "variable_2 = \"100\"\n",
    "\n",
    "variable_1 = float(variable_1)\n",
    "variable_2 = int(variable_2)\n",
    "\n",
    "print(type(variable_1)) # float \n",
    "print(type(variable_2)) # int "
   ]
  },
  {
   "cell_type": "code",
   "execution_count": 38,
   "id": "f9e39924",
   "metadata": {},
   "outputs": [
    {
     "name": "stdout",
     "output_type": "stream",
     "text": [
      "My name is Kah Hui and I am 22 years old.\n"
     ]
    }
   ],
   "source": [
    "name = \"Kah Hui\"\n",
    "age = \"22\"\n",
    "print('My name is '+name+ ' and I am '+age+' years old.')"
   ]
  },
  {
   "cell_type": "code",
   "execution_count": 39,
   "id": "6f13103d",
   "metadata": {},
   "outputs": [
    {
     "data": {
      "text/plain": [
       "'Abdul'"
      ]
     },
     "execution_count": 39,
     "metadata": {},
     "output_type": "execute_result"
    }
   ],
   "source": [
    "name = \"abdul\"\n",
    "name.capitalize()"
   ]
  },
  {
   "cell_type": "code",
   "execution_count": 40,
   "id": "7ace240e",
   "metadata": {},
   "outputs": [
    {
     "data": {
      "text/plain": [
       "'rahman'"
      ]
     },
     "execution_count": 40,
     "metadata": {},
     "output_type": "execute_result"
    }
   ],
   "source": [
    "name = \"RAHMAN\"\n",
    "name.lower()"
   ]
  },
  {
   "cell_type": "code",
   "execution_count": 42,
   "id": "07e57082",
   "metadata": {},
   "outputs": [
    {
     "data": {
      "text/plain": [
       "'RAHMAN'"
      ]
     },
     "execution_count": 42,
     "metadata": {},
     "output_type": "execute_result"
    }
   ],
   "source": [
    "name = \"rahman\"\n",
    "name.upper()"
   ]
  },
  {
   "cell_type": "code",
   "execution_count": 49,
   "id": "a7d9d6cf",
   "metadata": {},
   "outputs": [
    {
     "ename": "TypeError",
     "evalue": "float expected at most 1 argument, got 2",
     "output_type": "error",
     "traceback": [
      "\u001b[31m---------------------------------------------------------------------------\u001b[39m",
      "\u001b[31mTypeError\u001b[39m                                 Traceback (most recent call last)",
      "\u001b[36mCell\u001b[39m\u001b[36m \u001b[39m\u001b[32mIn[49]\u001b[39m\u001b[32m, line 2\u001b[39m\n\u001b[32m      1\u001b[39m text = \u001b[33m\"\u001b[39m\u001b[33m$20k\u001b[39m\u001b[33m\"\u001b[39m\n\u001b[32m----> \u001b[39m\u001b[32m2\u001b[39m \u001b[38;5;28mprint\u001b[39m (\u001b[38;5;28;43mfloat\u001b[39;49m\u001b[43m \u001b[49m\u001b[43m(\u001b[49m\u001b[43mtext\u001b[49m\u001b[43m.\u001b[49m\u001b[43mreplace\u001b[49m\u001b[43m \u001b[49m\u001b[43m(\u001b[49m\u001b[33;43m\"\u001b[39;49m\u001b[33;43mk\u001b[39;49m\u001b[33;43m\"\u001b[39;49m\u001b[43m \u001b[49m\u001b[43m,\u001b[49m\u001b[43m \u001b[49m\u001b[33;43m\"\u001b[39;49m\u001b[33;43m0000\u001b[39;49m\u001b[33;43m\"\u001b[39;49m\u001b[43m)\u001b[49m\u001b[43m,\u001b[49m\u001b[43m(\u001b[49m\u001b[43mtext\u001b[49m\u001b[43m.\u001b[49m\u001b[43mreplace\u001b[49m\u001b[43m \u001b[49m\u001b[43m(\u001b[49m\u001b[33;43m\"\u001b[39;49m\u001b[33;43m$\u001b[39;49m\u001b[33;43m\"\u001b[39;49m\u001b[43m \u001b[49m\u001b[43m,\u001b[49m\u001b[43m \u001b[49m\u001b[33;43m\"\u001b[39;49m\u001b[33;43m\"\u001b[39;49m\u001b[43m)\u001b[49m\u001b[43m)\u001b[49m\u001b[43m)\u001b[49m)\n",
      "\u001b[31mTypeError\u001b[39m: float expected at most 1 argument, got 2"
     ]
    }
   ],
   "source": [
    "text = \"$20k\"\n",
    "print (float (text.replace (\"k\" , \"0000\"),(text.replace (\"$\" , \"\"))))"
   ]
  },
  {
   "cell_type": "code",
   "execution_count": 50,
   "id": "fcdb9ac4",
   "metadata": {},
   "outputs": [],
   "source": [
    "NumOfStudents = 38 \n",
    "num_of_students = 30 "
   ]
  },
  {
   "cell_type": "code",
   "execution_count": 52,
   "id": "3ab3b9ce",
   "metadata": {},
   "outputs": [
    {
     "name": "stdout",
     "output_type": "stream",
     "text": [
      "<class 'list'>\n",
      "Alia\n"
     ]
    }
   ],
   "source": [
    "students = [\"Rahman\", \"Alia\", \"Anis\", \"Aniq\"]\n",
    "print(type(students))\n",
    "print (students[1])"
   ]
  },
  {
   "cell_type": "code",
   "execution_count": null,
   "id": "ed961ef1",
   "metadata": {},
   "outputs": [],
   "source": []
  }
 ],
 "metadata": {
  "kernelspec": {
   "display_name": "Python 3",
   "language": "python",
   "name": "python3"
  },
  "language_info": {
   "codemirror_mode": {
    "name": "ipython",
    "version": 3
   },
   "file_extension": ".py",
   "mimetype": "text/x-python",
   "name": "python",
   "nbconvert_exporter": "python",
   "pygments_lexer": "ipython3",
   "version": "3.12.1"
  }
 },
 "nbformat": 4,
 "nbformat_minor": 5
}
